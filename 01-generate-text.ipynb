{
 "cells": [
  {
   "cell_type": "code",
   "execution_count": 1,
   "id": "9da84023",
   "metadata": {},
   "outputs": [],
   "source": [
    "import openai\n",
    "\n",
    "client = openai.Client()"
   ]
  },
  {
   "cell_type": "markdown",
   "id": "5f3698a8",
   "metadata": {},
   "source": [
    "### Fluxo de Conversa\n",
    "- User: Usuario que inicia a conversa\n",
    "- Assistant: Bot que reponde a pergunta"
   ]
  },
  {
   "cell_type": "code",
   "execution_count": 2,
   "id": "fe7df8ba",
   "metadata": {},
   "outputs": [],
   "source": [
    "mensagens = [{\"role\": \"user\", \"content\": \"Defina uma laranja em 5 palavras\"}]"
   ]
  },
  {
   "cell_type": "code",
   "execution_count": 3,
   "id": "63c8a09e",
   "metadata": {},
   "outputs": [],
   "source": [
    "resposta = client.chat.completions.create(\n",
    "    messages=mensagens,\n",
    "    model=\"gpt-3.5-turbo-0125\",\n",
    "    max_tokens=1000,\n",
    "    temperature=0\n",
    ")"
   ]
  },
  {
   "cell_type": "code",
   "execution_count": 6,
   "id": "477cf51e",
   "metadata": {},
   "outputs": [
    {
     "data": {
      "text/plain": [
       "'Fruta cítrica suculenta e saborosa.'"
      ]
     },
     "execution_count": 6,
     "metadata": {},
     "output_type": "execute_result"
    }
   ],
   "source": [
    "resposta.choices[0].message.content"
   ]
  },
  {
   "cell_type": "code",
   "execution_count": 7,
   "id": "4fe68063",
   "metadata": {},
   "outputs": [],
   "source": [
    "mensagens.append({\"role\": \"assistant\", \"content\": resposta.choices[0].message.content})"
   ]
  },
  {
   "cell_type": "code",
   "execution_count": 8,
   "id": "f2363e14",
   "metadata": {},
   "outputs": [],
   "source": [
    "mensagens.append({\"role\":\"user\",\"content\": \"e qual a sua cor?\"})"
   ]
  },
  {
   "cell_type": "code",
   "execution_count": 9,
   "id": "0efe8997",
   "metadata": {},
   "outputs": [],
   "source": [
    "resposta = client.chat.completions.create(\n",
    "    messages=mensagens,\n",
    "    model=\"gpt-3.5-turbo-0125\",\n",
    "    max_tokens=1000,\n",
    "    temperature=0\n",
    ")"
   ]
  },
  {
   "cell_type": "code",
   "execution_count": 10,
   "id": "9ed2f15e",
   "metadata": {},
   "outputs": [
    {
     "data": {
      "text/plain": [
       "'Laranja.'"
      ]
     },
     "execution_count": 10,
     "metadata": {},
     "output_type": "execute_result"
    }
   ],
   "source": [
    "resposta.choices[0].message.content"
   ]
  },
  {
   "cell_type": "code",
   "execution_count": null,
   "id": "e1ba16e9",
   "metadata": {},
   "outputs": [],
   "source": [
    "mensagens.append({\"role\": \"assistant\", \"content\": resposta.choices[0].message.content})"
   ]
  },
  {
   "cell_type": "code",
   "execution_count": 13,
   "id": "e0a4651a",
   "metadata": {},
   "outputs": [
    {
     "data": {
      "text/plain": [
       "[{'role': 'user', 'content': 'Defina uma laranja em 5 palavras'},\n",
       " {'role': 'assistant', 'content': 'Fruta cítrica suculenta e saborosa.'},\n",
       " {'role': 'user', 'content': 'e qual a sua cor?'},\n",
       " {'role': 'assistant', 'content': 'Laranja.'}]"
      ]
     },
     "execution_count": 13,
     "metadata": {},
     "output_type": "execute_result"
    }
   ],
   "source": [
    "mensagens"
   ]
  },
  {
   "cell_type": "markdown",
   "id": "04d21b75",
   "metadata": {},
   "source": [
    "### Utilizando Funcao"
   ]
  },
  {
   "cell_type": "code",
   "execution_count": 17,
   "id": "8f1a0c1e",
   "metadata": {},
   "outputs": [],
   "source": [
    "def gereacao_texto(mensagens, model=\"gpt-3.5-turbo-0125\", max_tokens=1000, temperature=0):\n",
    "    resposta = client.chat.completions.create(\n",
    "        messages=mensagens,\n",
    "        model=model,\n",
    "        max_tokens=max_tokens,\n",
    "        temperature=temperature\n",
    "    )\n",
    "    mensagens.append({\"role\": \"assistant\", \"content\": resposta.choices[0].message.content})\n",
    "    return mensagens"
   ]
  },
  {
   "cell_type": "code",
   "execution_count": 18,
   "id": "5392d3c6",
   "metadata": {},
   "outputs": [],
   "source": [
    "msg1 = [{\"role\": \"assistant\", \"content\": \"defina o que e api em 5 palavras\"}]\n",
    "mensagens = gereacao_texto(msg1)"
   ]
  },
  {
   "cell_type": "code",
   "execution_count": 19,
   "id": "c64eeffb",
   "metadata": {},
   "outputs": [
    {
     "data": {
      "text/plain": [
       "[{'role': 'assistant', 'content': 'defina o que e api em 5 palavras'},\n",
       " {'role': 'assistant', 'content': 'Interface de programação de aplicativos.'}]"
      ]
     },
     "execution_count": 19,
     "metadata": {},
     "output_type": "execute_result"
    }
   ],
   "source": [
    "mensagens"
   ]
  },
  {
   "cell_type": "markdown",
   "id": "9f6ddea7",
   "metadata": {},
   "source": [
    "### Utilizando Stream"
   ]
  },
  {
   "cell_type": "code",
   "execution_count": 21,
   "id": "9890a7c9",
   "metadata": {},
   "outputs": [],
   "source": [
    "mensagens = [{\"role\": \"user\", \"content\": \"conte uma historia simples e objetiva sobre LLM\"}]\n",
    "\n",
    "resposta = client.chat.completions.create(\n",
    "    messages=mensagens,\n",
    "    model=\"gpt-3.5-turbo-0125\",\n",
    "    max_tokens=1000,\n",
    "    temperature=0,\n",
    "    stream=True\n",
    ")"
   ]
  },
  {
   "cell_type": "code",
   "execution_count": 22,
   "id": "ff8b212f",
   "metadata": {},
   "outputs": [
    {
     "data": {
      "text/plain": [
       "<openai.Stream at 0x1545b84f1d0>"
      ]
     },
     "execution_count": 22,
     "metadata": {},
     "output_type": "execute_result"
    }
   ],
   "source": [
    "resposta"
   ]
  },
  {
   "cell_type": "code",
   "execution_count": 23,
   "id": "8dfc788c",
   "metadata": {},
   "outputs": [
    {
     "name": "stdout",
     "output_type": "stream",
     "text": [
      "LLM era um jovem estudante de direito muito dedicado e determinado. Desde pequeno, sonhava em se tornar um advogado renomado e ajudar as pessoas a obter justiça.\n",
      "\n",
      "Durante seus estudos, LLM se destacava pela sua inteligência e capacidade de argumentação. Sempre participava de competições de debates e era elogiado por seus professores pela sua ética e comprometimento com a profissão.\n",
      "\n",
      "Após se formar, LLM conseguiu um estágio em um escritório de advocacia de prestígio, onde teve a oportunidade de aprender com profissionais experientes e se aprimorar ainda mais na área do direito.\n",
      "\n",
      "Com o passar dos anos, LLM se tornou um advogado respeitado e reconhecido por sua competência e dedicação aos seus clientes. Sempre buscava a melhor solução para cada caso, lutando incansavelmente pelos direitos daqueles que o procuravam.\n",
      "\n",
      "LLM realizou seu sonho de se tornar um advogado de sucesso, mas nunca deixou de lado sua humildade e empatia. Sempre se lembrava de suas origens simples e do desejo de ajudar as pessoas que o motivou a seguir a carreira jurídica."
     ]
    }
   ],
   "source": [
    "for resposta_stream in resposta:\n",
    "    texto = resposta_stream.choices[0].delta.content\n",
    "    if texto:\n",
    "        print(texto, end=\"\")"
   ]
  }
 ],
 "metadata": {
  "kernelspec": {
   "display_name": "venv",
   "language": "python",
   "name": "python3"
  },
  "language_info": {
   "codemirror_mode": {
    "name": "ipython",
    "version": 3
   },
   "file_extension": ".py",
   "mimetype": "text/x-python",
   "name": "python",
   "nbconvert_exporter": "python",
   "pygments_lexer": "ipython3",
   "version": "3.12.8"
  }
 },
 "nbformat": 4,
 "nbformat_minor": 5
}
