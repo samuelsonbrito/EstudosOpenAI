{
 "cells": [
  {
   "cell_type": "code",
   "execution_count": null,
   "id": "c1cf24f3",
   "metadata": {},
   "outputs": [],
   "source": [
    "import yfinance"
   ]
  }
 ],
 "metadata": {
  "language_info": {
   "name": "python"
  }
 },
 "nbformat": 4,
 "nbformat_minor": 5
}
